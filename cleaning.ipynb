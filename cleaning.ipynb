{
 "cells": [
  {
   "cell_type": "code",
   "execution_count": 2,
   "metadata": {},
   "outputs": [
    {
     "name": "stdout",
     "output_type": "stream",
     "text": [
      "All multiple spaces removed and content saved to new_file.txt\n"
     ]
    }
   ],
   "source": [
    "import re\n",
    "\n",
    "# Open the input file in read mode with utf-8 encoding\n",
    "with open('ling_eng.txt', 'r', encoding='utf-8') as file:\n",
    "    content = file.read()\n",
    "\n",
    "# Remove all multiple spaces\n",
    "cleaned_content = re.sub(' +', ' ', content)\n",
    "\n",
    "# Save the cleaned content to a new file\n",
    "with open('new_file.txt', 'w', encoding='utf-8') as new_file:\n",
    "    new_file.write(cleaned_content)\n",
    "\n",
    "print(\"All multiple spaces removed and content saved to new_file.txt\")\n"
   ]
  },
  {
   "cell_type": "code",
   "execution_count": null,
   "metadata": {},
   "outputs": [],
   "source": []
  }
 ],
 "metadata": {
  "kernelspec": {
   "display_name": "Python 3",
   "language": "python",
   "name": "python3"
  },
  "language_info": {
   "codemirror_mode": {
    "name": "ipython",
    "version": 3
   },
   "file_extension": ".py",
   "mimetype": "text/x-python",
   "name": "python",
   "nbconvert_exporter": "python",
   "pygments_lexer": "ipython3",
   "version": "3.12.4"
  }
 },
 "nbformat": 4,
 "nbformat_minor": 2
}
