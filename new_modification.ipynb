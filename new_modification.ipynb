{
 "cells": [
  {
   "cell_type": "code",
   "execution_count": 2,
   "metadata": {},
   "outputs": [
    {
     "name": "stdout",
     "output_type": "stream",
     "text": [
      "File has been processed and saved as ling_eng_modified.txt\n"
     ]
    }
   ],
   "source": [
    "input_file = \"./ling_eng.txt\"\n",
    "output_file = \"./ling_eng_modified.txt\"\n",
    "\n",
    "with open(input_file, \"r\", encoding=\"utf-8\") as infile, open(output_file, \"w\", encoding=\"utf-8\") as outfile:\n",
    "    lines = infile.readlines()\n",
    "    for i in range(0, len(lines), 2):\n",
    "        if i + 1 < len(lines):\n",
    "            lingala = lines[i].strip()\n",
    "            english = lines[i + 1].strip()\n",
    "            outfile.write(f\"{lingala}\\t{english}\\n\")\n",
    "\n",
    "print(\"File has been processed and saved as ling_eng_modified.txt\")"
   ]
  },
  {
   "cell_type": "code",
   "execution_count": null,
   "metadata": {},
   "outputs": [],
   "source": []
  }
 ],
 "metadata": {
  "kernelspec": {
   "display_name": "Python 3",
   "language": "python",
   "name": "python3"
  },
  "language_info": {
   "codemirror_mode": {
    "name": "ipython",
    "version": 3
   },
   "file_extension": ".py",
   "mimetype": "text/x-python",
   "name": "python",
   "nbconvert_exporter": "python",
   "pygments_lexer": "ipython3",
   "version": "3.12.4"
  }
 },
 "nbformat": 4,
 "nbformat_minor": 2
}
