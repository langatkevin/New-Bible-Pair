{
 "cells": [
  {
   "cell_type": "code",
   "execution_count": 1,
   "metadata": {},
   "outputs": [
    {
     "name": "stdout",
     "output_type": "stream",
     "text": [
      "Successfully saved the first 1000 rows to ling_eng.csv\n"
     ]
    }
   ],
   "source": [
    "import pandas as pd\n",
    "\n",
    "# Load the CSV file\n",
    "file_path = 'lingala_english.csv'\n",
    "data = pd.read_csv(file_path)\n",
    "\n",
    "# Select the first 1000 rows\n",
    "data_subset = data.head(500)\n",
    "\n",
    "# Save the subset to a new CSV file\n",
    "output_file_path = 'ling_eng.csv'\n",
    "data_subset.to_csv(output_file_path, index=False)\n",
    "\n",
    "print(f'Successfully saved the first 1000 rows to {output_file_path}')"
   ]
  },
  {
   "cell_type": "code",
   "execution_count": 1,
   "metadata": {},
   "outputs": [
    {
     "name": "stdout",
     "output_type": "stream",
     "text": [
      "Successfully saved the first 1000 rows to shona_leo.csv\n"
     ]
    }
   ],
   "source": [
    "import pandas as pd\n",
    "\n",
    "# Load the CSV file\n",
    "file_path = 'shona_luo_pair.csv'\n",
    "data = pd.read_csv(file_path)\n",
    "\n",
    "# Select the first 1000 rows\n",
    "data_subset = data.head(1500)\n",
    "\n",
    "# Save the subset to a new CSV file\n",
    "output_file_path = 'shona_leo.csv'\n",
    "data_subset.to_csv(output_file_path, index=False)\n",
    "\n",
    "print(f'Successfully saved the first 1000 rows to {output_file_path}')"
   ]
  },
  {
   "cell_type": "code",
   "execution_count": null,
   "metadata": {},
   "outputs": [],
   "source": []
  }
 ],
 "metadata": {
  "kernelspec": {
   "display_name": "Python 3",
   "language": "python",
   "name": "python3"
  },
  "language_info": {
   "codemirror_mode": {
    "name": "ipython",
    "version": 3
   },
   "file_extension": ".py",
   "mimetype": "text/x-python",
   "name": "python",
   "nbconvert_exporter": "python",
   "pygments_lexer": "ipython3",
   "version": "3.12.4"
  }
 },
 "nbformat": 4,
 "nbformat_minor": 2
}
